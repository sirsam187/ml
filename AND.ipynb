{
 "cells": [
  {
   "cell_type": "code",
   "execution_count": 56,
   "metadata": {},
   "outputs": [],
   "source": [
    "import numpy as np"
   ]
  },
  {
   "cell_type": "code",
   "execution_count": 57,
   "metadata": {},
   "outputs": [],
   "source": [
    "def step_fxn(x):\n",
    "    if x>0:\n",
    "        return 1\n",
    "    return 0"
   ]
  },
  {
   "cell_type": "code",
   "execution_count": 58,
   "metadata": {},
   "outputs": [],
   "source": [
    "def perceptron():\n",
    "    X=np.array([[0,0],[1,0],[0,1],[1,1]])\n",
    "    weights=np.random.rand(2)\n",
    "    bias=np.random.rand(1)\n",
    "    targets=np.array([0,0,0,1])\n",
    "    alpha=0.1\n",
    "    epochs=10000\n",
    "    for i in range(epochs):\n",
    "        for j in range(X.shape[0]):\n",
    "            pred=step_fxn(np.dot(X[j,:],weights)+bias)\n",
    "            weights+=alpha*(targets[j]-pred)*X[j,:]\n",
    "            bias+=alpha*(targets[j]-pred)\n",
    "    return weights,bias"
   ]
  },
  {
   "cell_type": "code",
   "execution_count": 59,
   "metadata": {},
   "outputs": [
    {
     "name": "stdout",
     "output_type": "stream",
     "text": [
      "[0.2284337  0.38749184]\n",
      "[-0.47784335]\n"
     ]
    }
   ],
   "source": [
    "weights,bias=perceptron()\n",
    "print(weights)\n",
    "print(bias)"
   ]
  },
  {
   "cell_type": "code",
   "execution_count": 60,
   "metadata": {},
   "outputs": [
    {
     "data": {
      "text/plain": [
       "1"
      ]
     },
     "execution_count": 60,
     "metadata": {},
     "output_type": "execute_result"
    }
   ],
   "source": [
    "step_fxn(np.dot([1,1],weights)+bias)"
   ]
  }
 ],
 "metadata": {
  "kernelspec": {
   "display_name": "Python 3",
   "language": "python",
   "name": "python3"
  },
  "language_info": {
   "codemirror_mode": {
    "name": "ipython",
    "version": 3
   },
   "file_extension": ".py",
   "mimetype": "text/x-python",
   "name": "python",
   "nbconvert_exporter": "python",
   "pygments_lexer": "ipython3",
   "version": "3.10.1"
  }
 },
 "nbformat": 4,
 "nbformat_minor": 2
}
